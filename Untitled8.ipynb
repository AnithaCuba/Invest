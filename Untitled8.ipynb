{
  "nbformat": 4,
  "nbformat_minor": 0,
  "metadata": {
    "colab": {
      "provenance": [],
      "mount_file_id": "1nN6lz_e1NchPgY7aC4PZ2f3WgvUt8yTr",
      "authorship_tag": "ABX9TyMhfBqqVf/R6L6OqTHCGzH8",
      "include_colab_link": true
    },
    "kernelspec": {
      "name": "python3",
      "display_name": "Python 3"
    },
    "language_info": {
      "name": "python"
    }
  },
  "cells": [
    {
      "cell_type": "markdown",
      "metadata": {
        "id": "view-in-github",
        "colab_type": "text"
      },
      "source": [
        "<a href=\"https://colab.research.google.com/github/AnithaCuba/Invest/blob/master/Untitled8.ipynb\" target=\"_parent\"><img src=\"https://colab.research.google.com/assets/colab-badge.svg\" alt=\"Open In Colab\"/></a>"
      ]
    },
    {
      "cell_type": "code",
      "execution_count": 34,
      "metadata": {
        "id": "vnd4nqgMtoxe"
      },
      "outputs": [],
      "source": [
        "import pandas as pd"
      ]
    },
    {
      "cell_type": "code",
      "source": [
        "df = pd.read_csv('/content/drive/MyDrive/ies_tak.csv', encoding='latin-1')"
      ],
      "metadata": {
        "id": "7YXCEsortuR7"
      },
      "execution_count": 17,
      "outputs": []
    },
    {
      "cell_type": "code",
      "source": [
        "type(df)"
      ],
      "metadata": {
        "id": "FPZjqvLbwmeX"
      },
      "execution_count": null,
      "outputs": []
    },
    {
      "cell_type": "code",
      "source": [
        "!pip install pyspark"
      ],
      "metadata": {
        "colab": {
          "base_uri": "https://localhost:8080/"
        },
        "id": "9pMaM56sxk5N",
        "outputId": "5db5ebaa-9566-4fa5-852c-58d2f22f2237"
      },
      "execution_count": 19,
      "outputs": [
        {
          "output_type": "stream",
          "name": "stdout",
          "text": [
            "Requirement already satisfied: pyspark in /usr/local/lib/python3.10/dist-packages (3.5.3)\n",
            "Requirement already satisfied: py4j==0.10.9.7 in /usr/local/lib/python3.10/dist-packages (from pyspark) (0.10.9.7)\n"
          ]
        }
      ]
    },
    {
      "cell_type": "code",
      "source": [
        "import pyspark"
      ],
      "metadata": {
        "id": "gckgduIKxyOw"
      },
      "execution_count": 20,
      "outputs": []
    },
    {
      "cell_type": "code",
      "source": [
        "from pyspark.sql import SparkSession"
      ],
      "metadata": {
        "id": "e-ac-cVpx9oX"
      },
      "execution_count": 24,
      "outputs": []
    },
    {
      "cell_type": "code",
      "source": [
        "spark = SparkSession.builder.appName(\"pyspark_basics\").getOrCreate()"
      ],
      "metadata": {
        "id": "bHe-2-iAyTWG"
      },
      "execution_count": 26,
      "outputs": []
    },
    {
      "cell_type": "code",
      "source": [
        "datos_spark= spark.read.option('header','true').option(\"delimiter\",\";\").csv('/content/sample_data/ies_tak.csv', sep=';', encoding='latin1')"
      ],
      "metadata": {
        "id": "07UfSdnDzZct"
      },
      "execution_count": 31,
      "outputs": []
    },
    {
      "cell_type": "code",
      "source": [
        "datos_spark.show()"
      ],
      "metadata": {
        "id": "YcJUMI4s1JOc"
      },
      "execution_count": null,
      "outputs": []
    },
    {
      "cell_type": "code",
      "source": [
        "type(datos_spark)"
      ],
      "metadata": {
        "id": "pQB88cbE1cRl"
      },
      "execution_count": null,
      "outputs": []
    },
    {
      "cell_type": "code",
      "source": [
        "datos_spark.printSchema"
      ],
      "metadata": {
        "id": "Y3Ub8e2s1jqg"
      },
      "execution_count": null,
      "outputs": []
    },
    {
      "cell_type": "code",
      "source": [
        "datos_spark.select(\"nombre_ie\").show()"
      ],
      "metadata": {
        "id": "uOfRZa502WGk"
      },
      "execution_count": null,
      "outputs": []
    },
    {
      "cell_type": "code",
      "source": [
        "datos_spark.select(\"nombre_ie\",\"director\").show()"
      ],
      "metadata": {
        "id": "yjDmdcD14-ho"
      },
      "execution_count": null,
      "outputs": []
    },
    {
      "cell_type": "code",
      "source": [
        "datos_spark.createOrReplaceTempView(\"instituciones\")"
      ],
      "metadata": {
        "id": "LqwCtI2N5y0i"
      },
      "execution_count": 40,
      "outputs": []
    },
    {
      "cell_type": "code",
      "source": [
        "filas = spark.sql(\"select * from instituciones\")"
      ],
      "metadata": {
        "id": "apRwHVhE6A7m"
      },
      "execution_count": 42,
      "outputs": []
    },
    {
      "cell_type": "code",
      "source": [
        "secundarias = spark.sql(\"select nombre_ie,distrito,director from instituciones\")"
      ],
      "metadata": {
        "id": "BJcvWU5e6U_H"
      },
      "execution_count": 43,
      "outputs": []
    },
    {
      "cell_type": "code",
      "source": [
        "secundarias.show(secundarias.count(),False)"
      ],
      "metadata": {
        "colab": {
          "base_uri": "https://localhost:8080/"
        },
        "id": "zIMrmLGS6rIH",
        "outputId": "160b8eec-0505-4aef-dff2-9c31c03d24ec"
      },
      "execution_count": 44,
      "outputs": [
        {
          "output_type": "stream",
          "name": "stdout",
          "text": [
            "+---------------------------------------------------------+-----------------+-------------------------------------------+\n",
            "|nombre_ie                                                |distrito         |director                                   |\n",
            "+---------------------------------------------------------+-----------------+-------------------------------------------+\n",
            "|104 CESAR VALLEJO                                        |La Esperanza     |Barrantes Mejia de Sanchez  Maria Esther   |\n",
            "|105                                                      |La Esperanza     |Cuba Basilio Marilu                        |\n",
            "|106                                                      |La Esperanza     |SANCHO FERNANDEZ KAROL ELIZABETH           |\n",
            "|109                                                      |La Esperanza     |CASTILLO LI    ROSA ELENA                  |\n",
            "|110                                                      |La Esperanza     |PADILLA  ORE ROSA YSABEL                   |\n",
            "|112                                                      |Florencia de Mora|ACEVEDO SANCHEZ LUCILA INES                |\n",
            "|118                                                      |Huanchaco        |CHUNGA CAPU¥AY MARIA FRANCISCA             |\n",
            "|127                                                      |Huanchaco        |GONZALEZ BLAS ZOILA BEATRIZ                |\n",
            "|1560 JESUS NAZARENO                                      |La Esperanza     |CACERES ZEGARRA MARIA EUGENIA              |\n",
            "|1561                                                     |Florencia de Mora|GASTA¥UDI TORRES MARIA ELENA               |\n",
            "|1574 SANTA VERONICA                                      |La Esperanza     |ALVAREZ AMAYA MIRIAN SUSANA                |\n",
            "|1575 BARCIA BONIFFATTI                                   |La Esperanza     |ACOSTA LOPEZ MIRIAM EDITH                  |\n",
            "|1576 JERUSALEN                                           |La Esperanza     |Salirrosas  Sandobal For Marina            |\n",
            "|1577 ESTRELLITAS DEL CIELO                               |Florencia de Mora|CUEVA CARRERA  MARIBEL JANETH              |\n",
            "|1578 LA CASITA DEL SABER                                 |Florencia de Mora|CHINGUEL Né¥EZ TEODOLINDA                  |\n",
            "|1629                                                     |Huanchaco        |Arroyo Alfaro Jeanette                     |\n",
            "|1634 VIRGEN DEL PERPETUO SOCORRO                         |La Esperanza     |VARAS LOZANO MARIA TERESA                  |\n",
            "|1635                                                     |Florencia de Mora|DIAZ MORI JENIFFER CAROLINA                |\n",
            "|1680 DIVINA MISERICORDIA                                 |La Esperanza     |ORTIZ DEZA ANA MARÖA                       |\n",
            "|1682 VIRGEN DE FATIMA                                    |La Esperanza     |DÖAZ NACARINO SARITA DEL CARMEN            |\n",
            "|1692                                                     |Florencia de Mora|CERNA MERCADO ELSA MARIVEL                 |\n",
            "|1702 SANTISIMO SACRAMENTO                                |La Esperanza     |VARGAS NARRO MARIA ELISA                   |\n",
            "|1702 SANTISIMO SACRAMENTO                                |La Esperanza     |VARGAS NARRO MARIA ELISA                   |\n",
            "|1702 SANTISIMO SACRAMENTO                                |La Esperanza     |VARGAS NARRO MARIA ELISA                   |\n",
            "|1719 SAN MARTIN DE PORRES                                |La Esperanza     |AURAZO ARTEAGA ANDREA JULISSA              |\n",
            "|1762 SAGRADO CORAZON DE JESUS                            |La Esperanza     |Uceda  Delgado Rosa Marivel                |\n",
            "|1763 NUESTRA SE¥ORA DE FATIMA                            |La Esperanza     |LAZO PE¥A SARA CECILIA                     |\n",
            "|1776                                                     |La Esperanza     |VERA RIVERA YSABEL MERCEDES                |\n",
            "|1784                                                     |La Esperanza     |Hernandez Jara Yolanda Esther              |\n",
            "|1785 GOTITAS DE ROCIO                                    |La Esperanza     |ZAMORA ORTIZ SUSAN CAROL                   |\n",
            "|1787 SAGRADO CORAZON DE JESUS                            |La Esperanza     |CHAVEZ JUAREZ ZENAIDA ISABEL               |\n",
            "|1787 SAGRADO CORAZON DE JESUS                            |La Esperanza     |CHAVEZ JUAREZ ZENAIDA ISABEL               |\n",
            "|1793 MARIA INMACULADA                                    |La Esperanza     |GARCIA RODRIGUEZ FIDELINA MARIBEL          |\n",
            "|1795                                                     |Huanchaco        |LEYVA AVALOS MELVA NIDIA                   |\n",
            "|2021 SARITA COLONIA                                      |La Esperanza     |ULLOA VASQUEZ RAQUEL LILIANA               |\n",
            "|2028 LUCERITO DEL AMANECER                               |La Esperanza     |CABALLERO GARCIA PATRICIA JANET            |\n",
            "|2030                                                     |La Esperanza     |Montoya  Colmenares  Lydia Mercedes        |\n",
            "|2039 VIRGEN DEL ROSARIO                                  |La Esperanza     |Vel squez Abanto Nanci Ymelda              |\n",
            "|2152                                                     |La Esperanza     |Quevedo S nchez Lourdes del Pilar          |\n",
            "|2153                                                     |Huanchaco        |REYES AGREDA ROSELLA AIDE                  |\n",
            "|2154                                                     |Huanchaco        |Cespedes Gonzales Dereck Paola             |\n",
            "|2158                                                     |Huanchaco        |MARTELL QUIROZ RAQUEL CLARA                |\n",
            "|217 ENRIQUE CASSINELLI CHIAPPE                           |La Esperanza     |HERRERA MENDOZA DE COSANATAN  MARIA CECILIA|\n",
            "|2177                                                     |Huanchaco        |GARCIA IZQUIERDO JHOVANA YULI              |\n",
            "|2178                                                     |Huanchaco        |MARCHAN TARAZONA ESTHER IRENE              |\n",
            "|2208                                                     |Huanchaco        |CELIZ HUALLAN SHIRLEY STEFHANY             |\n",
            "|2209                                                     |Huanchaco        |VASQUEZ GUTIERREZ PAOLA JOHANA             |\n",
            "|2210                                                     |Huanchaco        |ROMERO HERNANDEZ ESTHEFANY LYZETH          |\n",
            "|2270                                                     |Huanchaco        |ACOSTA VILLANUEVA PATRICIA LISSETH         |\n",
            "|2271                                                     |Huanchaco        |CARDENAS ESPINO SOCORRO DEL PILAR          |\n",
            "|2305                                                     |Huanchaco        |VµSQUEZ DÖAZ CLAUDIA CECILIA PATRICIA      |\n",
            "|2306                                                     |La Esperanza     |GUTIRREZ ALCµNTARA MILAGROS DEL ROCIO     |\n",
            "|2307                                                     |La Esperanza     |AMAYA VILLALOBOS SILVIA ANGELICA           |\n",
            "|2308                                                     |La Esperanza     |RUIZ PASTOR SONIA MARITZA                  |\n",
            "|2309                                                     |La Esperanza     |YUPANQUI GUEVARA KAREN PAMELA              |\n",
            "|2310                                                     |La Esperanza     |FLORIAN  DIAZ ROSARITO DEL CARMEN          |\n",
            "|2311                                                     |La Esperanza     |VARGAS ROJAS CECILIA                       |\n",
            "|2336                                                     |La Esperanza     |JULCA RODRIGUEZ SANDRA DEL CARMEN          |\n",
            "|2337                                                     |La Esperanza     |Marin Solano Rosario del Pilar             |\n",
            "|251                                                      |Florencia de Mora|Sanchez  Aroni Violeta Flor                |\n",
            "|80031 MUNICIPAL                                          |Florencia de Mora|SµNCHEZ  PASCO GIULIANA NATHALIE           |\n",
            "|80031 MUNICIPAL                                          |Florencia de Mora|SµNCHEZ  PASCO GIULIANA NATHALIE           |\n",
            "|80032 GENERALISIMO JOSE DE SAN MARTIN                    |Florencia de Mora|ROSAS RODRIGUEZ MARIA ISABEL               |\n",
            "|80032 GENERALISIMO JOSE DE SAN MARTIN                    |Florencia de Mora|ROSAS RODRIGUEZ MARIA ISABEL               |\n",
            "|80036 SAN MARTIN DE PORRES                               |La Esperanza     |BRICE¥O OBANDO ELVER ADEMAR                |\n",
            "|80036 SAN MARTIN DE PORRES                               |La Esperanza     |BRICE¥O OBANDO ELVER ADEMAR                |\n",
            "|80036 SAN MARTIN DE PORRES                               |La Esperanza     |BRICE¥O OBANDO ELVER ADEMAR                |\n",
            "|80038 SAN FRANCISCO DE ASIS                              |La Esperanza     |ROJAS CABANILLAS JESUS SANTOS              |\n",
            "|80038 SAN FRANCISCO DE ASIS                              |La Esperanza     |ROJAS CABANILLAS JESUS SANTOS              |\n",
            "|80038 SAN FRANCISCO DE ASIS                              |La Esperanza     |ROJAS CABANILLAS JESUS SANTOS              |\n",
            "|80039 MIGUEL GRAU SEMINARIO                              |La Esperanza     |SILVESTRE RODRIGUEZ JUANA ROSA             |\n",
            "|80039 MIGUEL GRAU SEMINARIO                              |La Esperanza     |SILVESTRE RODRIGUEZ JUANA ROSA             |\n",
            "|80040 DIVINO MAESTRO                                     |La Esperanza     |CALLE DIAZ JUAN JAVIER                     |\n",
            "|80040 DIVINO MAESTRO                                     |La Esperanza     |CALLE DIAZ JUAN JAVIER                     |\n",
            "|80041 JOSE CARLOS MARIATEGUI                             |La Esperanza     |MU¥OZ LEXCEQUIA MARTHA CRUZ                |\n",
            "|80041 JOSE CARLOS MARIATEGUI                             |La Esperanza     |MU¥OZ LEXCEQUIA MARTHA CRUZ                |\n",
            "|80081 JULIO GUTIERREZ SOLARI                             |Huanchaco        |Alfaro Baz n Marianella Julissa            |\n",
            "|80081 JULIO GUTIERREZ SOLARI                             |Huanchaco        |Alfaro Baz n Marianella Julissa            |\n",
            "|80818 JORGE BASADRE GROHMANN                             |Florencia de Mora|CASTRO LUJµN FREDDY NEPTALÖ                |\n",
            "|80818 JORGE BASADRE GROHMANN                             |Florencia de Mora|CASTRO LUJµN FREDDY NEPTALÖ                |\n",
            "|80821 CESAR VALLEJO MENDOZA                              |La Esperanza     |ALAYO ROSAS ANGEL OSWALDO                  |\n",
            "|80821 CESAR VALLEJO MENDOZA                              |La Esperanza     |ALAYO ROSAS ANGEL OSWALDO                  |\n",
            "|80822 SANTA MARIA DE LA ESPERANZA                        |La Esperanza     |SEGURA LEZAMA GILMAR JESUS                 |\n",
            "|80822 SANTA MARIA DE LA ESPERANZA                        |La Esperanza     |SEGURA LEZAMA GILMAR JESUS                 |\n",
            "|80829 JOSE OLAYA                                         |La Esperanza     |ZAVALETA RUIZ ROBERT OSWALDO               |\n",
            "|80829 JOSE OLAYA                                         |La Esperanza     |ZAVALETA RUIZ ROBERT OSWALDO               |\n",
            "|80829 JOSE OLAYA                                         |La Esperanza     |ZAVALETA RUIZ ROBERT OSWALDO               |\n",
            "|80831 FRANCISCO BOLOGNESI                                |Florencia de Mora|CONTRERAS BURGOS PASCUAL                   |\n",
            "|80831 FRANCISCO BOLOGNESI                                |Florencia de Mora|CONTRERAS BURGOS PASCUAL                   |\n",
            "|81608 SAN JOSE                                           |La Esperanza     |Coronel Araujo Vilma Victoria              |\n",
            "|81608 SAN JOSE                                           |La Esperanza     |Coronel Araujo Vilma Victoria              |\n",
            "|81608 SAN JOSE                                           |La Esperanza     |Coronel Araujo Vilma Victoria              |\n",
            "|81714 SE¥OR DE LOS MILAGROS                              |Huanchaco        |PAREDES VASQUEZ HILTON JUAN                |\n",
            "|81714 SE¥OR DE LOS MILAGROS                              |Huanchaco        |PAREDES VASQUEZ HILTON JUAN                |\n",
            "|81748                                                    |La Esperanza     |Vargas  Andrade Laura Imelda               |\n",
            "|81748                                                    |La Esperanza     |Vargas  Andrade Laura Imelda               |\n",
            "|81748                                                    |La Esperanza     |Vargas  Andrade Laura Imelda               |\n",
            "|81749 DIVINO JESUS                                       |La Esperanza     |CASTRO ANGULO FRANCISCO APARICIO           |\n",
            "|81749 DIVINO JESUS                                       |La Esperanza     |CASTRO ANGULO FRANCISCO APARICIO           |\n",
            "|81751 DIOS ES AMOR                                       |La Esperanza     |AGUILAR PRETEL ROSARIO ELENA               |\n",
            "|81751 DIOS ES AMOR                                       |La Esperanza     |AGUILAR PRETEL ROSARIO ELENA               |\n",
            "|81763                                                    |La Esperanza     |GONZALEZ  AGUILAR  EUCLIDES JOSE ROSAS     |\n",
            "|81765 SIMON LOZANO GARCIA                                |Florencia de Mora|MARI¥OS YBA¥EZ HERNAN ALFREDO              |\n",
            "|81765 SIMON LOZANO GARCIA                                |Florencia de Mora|MARI¥OS YBA¥EZ HERNAN ALFREDO              |\n",
            "|81765 SIMON LOZANO GARCIA                                |Florencia de Mora|MARI¥OS YBA¥EZ HERNAN ALFREDO              |\n",
            "|81773 SIMON BOLIVAR                                      |Huanchaco        |VµSQUEZ MEJÖA SEGUNDO                      |\n",
            "|81773 SIMON BOLIVAR                                      |Huanchaco        |VµSQUEZ MEJÖA SEGUNDO                      |\n",
            "|81773 SIMON BOLIVAR                                      |Huanchaco        |VµSQUEZ MEJÖA SEGUNDO                      |\n",
            "|82071                                                    |La Esperanza     |UCEDA OBANDO ROSA MARGARITA                |\n",
            "|82071                                                    |La Esperanza     |UCEDA OBANDO ROSA MARGARITA                |\n",
            "|82071                                                    |La Esperanza     |UCEDA OBANDO ROSA MARGARITA                |\n",
            "|82072 AROLDO REATEGUI REATEGUI                           |Huanchaco        |µLVAREZ MOSTACERO HADY JANNETH             |\n",
            "|82072 AROLDO REATEGUI REATEGUI                           |Huanchaco        |µLVAREZ MOSTACERO HADY JANNETH             |\n",
            "|82073 SAN MARTIN DE PORRES                               |Huanchaco        |URBINA CRUZADO CIRO CLINTON                |\n",
            "|82073 SAN MARTIN DE PORRES                               |Huanchaco        |URBINA CRUZADO CIRO CLINTON                |\n",
            "|82212 PEDRO PAULET MOSTAJO                               |La Esperanza     |MAIQUEN CRISANTO KASSANDRA DE PILAR        |\n",
            "|ADVENTURE SCHOOLS                                        |La Esperanza     |No figura                                  |\n",
            "|AMIGOS DE JESUS                                          |La Esperanza     |No figura                                  |\n",
            "|AMIGOS DE JESUS                                          |La Esperanza     |No figura                                  |\n",
            "|AMIGOS DE JESUS                                          |La Esperanza     |No figura                                  |\n",
            "|BENJAMIN CARSON                                          |Florencia de Mora|No figura                                  |\n",
            "|BENJAMIN CARSON                                          |Florencia de Mora|No figura                                  |\n",
            "|BENJAMIN CARSON                                          |Florencia de Mora|No figura                                  |\n",
            "|CARLOS MANUEL COX ROSSE                                  |La Esperanza     |MALPARTIDA ECHEVARRIA SEGUNDO HENRY        |\n",
            "|CARLOS MANUEL COX ROSSE                                  |La Esperanza     |MALPARTIDA ECHEVARRIA SEGUNDO HENRY        |\n",
            "|CARLOS MANUEL COX ROSSE                                  |La Esperanza     |MALPARTIDA ECHEVARRIA SEGUNDO HENRY        |\n",
            "|CELESTIN FREINET                                         |La Esperanza     |No figura                                  |\n",
            "|CELESTIN FREINET                                         |La Esperanza     |No figura                                  |\n",
            "|CESAR VALLEJO                                            |Florencia de Mora|No figura                                  |\n",
            "|CESAR VALLEJO                                            |Florencia de Mora|No figura                                  |\n",
            "|CHIQUID TALENTOS                                         |La Esperanza     |No figura                                  |\n",
            "|CHRISTIAAN BARNARD                                       |Huanchaco        |No figura                                  |\n",
            "|CHRISTIAAN BARNARD                                       |Huanchaco        |No figura                                  |\n",
            "|CHRISTIAAN BARNARD                                       |Huanchaco        |No figura                                  |\n",
            "|CHRISTIAN BARNARD                                        |La Esperanza     |No figura                                  |\n",
            "|CHRISTIAN BARNARD                                        |La Esperanza     |No figura                                  |\n",
            "|CIRO ALEGRIA                                             |Florencia de Mora|No figura                                  |\n",
            "|CIRO ALEGRIA                                             |Florencia de Mora|No figura                                  |\n",
            "|CIRO ALEGRIA                                             |Florencia de Mora|No figura                                  |\n",
            "|COLEGIO DE CIENCIAS ALBERT EINSTEIN                      |La Esperanza     |No figura                                  |\n",
            "|COLEGIO DE CIENCIAS ALBERT EINSTEIN                      |La Esperanza     |No figura                                  |\n",
            "|COLEGIO DE CIENCIAS ALBERT EINSTEIN                      |La Esperanza     |No figura                                  |\n",
            "|Colegio TEST Pruebas                                     |Huanchaco        |MEDINA MEDINA GUISELL ALEJANDRA            |\n",
            "|COLEGIO TEST SECUNDARIO                                  |UGELTEST         |No figura                                  |\n",
            "|CORAZON DE JESUS DE LA ESPERANZA                         |La Esperanza     |No figura                                  |\n",
            "|CRISTIANA BELEN                                          |Florencia de Mora|No figura                                  |\n",
            "|CRISTIANA BELEN                                          |Florencia de Mora|No figura                                  |\n",
            "|CRISTO REY                                               |La Esperanza     |RUBIO CASTA¥EDA MARIEL FELICITA            |\n",
            "|CRISTO REY                                               |La Esperanza     |RUBIO CASTA¥EDA MARIEL FELICITA            |\n",
            "|CRISTO REY                                               |La Esperanza     |RUBIO CASTA¥EDA MARIEL FELICITA            |\n",
            "|CRISTO REY                                               |La Esperanza     |No figura                                  |\n",
            "|CUMORAH                                                  |La Esperanza     |No figura                                  |\n",
            "|CUMORAH                                                  |La Esperanza     |No figura                                  |\n",
            "|DANIEL ALCIDES CARRION                                   |La Esperanza     |No figura                                  |\n",
            "|DANIEL ALCIDES CARRION                                   |La Esperanza     |No figura                                  |\n",
            "|DANIEL ALCIDES CARRION                                   |La Esperanza     |No figura                                  |\n",
            "|DESARROLLO INTEGRAL                                      |La Esperanza     |No figura                                  |\n",
            "|DESARROLLO INTEGRAL                                      |La Esperanza     |No figura                                  |\n",
            "|DIVINO NI¥O JESUS                                        |La Esperanza     |No figura                                  |\n",
            "|DIVINO NI¥O JESUS                                        |La Esperanza     |No figura                                  |\n",
            "|DOS DE MAYO                                              |La Esperanza     |No figura                                  |\n",
            "|DOS DE MAYO                                              |La Esperanza     |No figura                                  |\n",
            "|DOS DE MAYO                                              |La Esperanza     |No figura                                  |\n",
            "|EL AMANECER                                              |La Esperanza     |MIRANDA DELGADO MARCO ANTONIO              |\n",
            "|EL BUEN PASTOR                                           |La Esperanza     |No figura                                  |\n",
            "|EL BUEN PASTOR                                           |La Esperanza     |No figura                                  |\n",
            "|EL BUEN PASTOR                                           |La Esperanza     |No figura                                  |\n",
            "|EL NAZARENO                                              |Florencia de Mora|No figura                                  |\n",
            "|EL NAZARENO                                              |Florencia de Mora|No figura                                  |\n",
            "|EL NAZARENO                                              |Florencia de Mora|No figura                                  |\n",
            "|EMANUEL DIOS CON NOSOTROS                                |La Esperanza     |No figura                                  |\n",
            "|EMANUEL DIOS CON NOSOTROS                                |La Esperanza     |No figura                                  |\n",
            "|EMANUEL DIOS CON NOSOTROS                                |La Esperanza     |No figura                                  |\n",
            "|ESCUELA PéBLICA TEST                                     |UGELTEST         |MEDINA MEDINA GUISELL ALEJANDRA            |\n",
            "|ESTUDIANTES EXCELENTES                                   |La Esperanza     |No figura                                  |\n",
            "|ESTUDIANTES EXCELENTES                                   |La Esperanza     |No figura                                  |\n",
            "|FE Y ALEGRIA 36                                          |La Esperanza     |MORENO RAMOS LILI ELIZABETH                |\n",
            "|FE Y ALEGRIA 36                                          |La Esperanza     |MORENO RAMOS LILI ELIZABETH                |\n",
            "|FE Y ALEGRIA 36                                          |La Esperanza     |MORENO RAMOS LILI ELIZABETH                |\n",
            "|FILADELFIA                                               |La Esperanza     |No figura                                  |\n",
            "|FILADELFIA                                               |La Esperanza     |No figura                                  |\n",
            "|FILADELFIA                                               |La Esperanza     |No figura                                  |\n",
            "|FORTALEZA DIVINA                                         |La Esperanza     |No figura                                  |\n",
            "|FORTALEZA DIVINA                                         |La Esperanza     |No figura                                  |\n",
            "|FREDERICK TAYLOR COLLEGE                                 |Florencia de Mora|No figura                                  |\n",
            "|GENEVA SCHOOL - PERU MISSION CHRISTIAN MISSIONARY SOCIETY|La Esperanza     |No figura                                  |\n",
            "|GENEVA SCHOOL - PERU MISSION CHRISTIAN MISSIONARY SOCIETY|La Esperanza     |No figura                                  |\n",
            "|GENIOS DEL MILLENNIUM                                    |La Esperanza     |No figura                                  |\n",
            "|GENIOS DEL MILLENNIUM                                    |La Esperanza     |No figura                                  |\n",
            "|GRANDES GENIOS                                           |La Esperanza     |No figura                                  |\n",
            "|GRANDES GENIOS                                           |La Esperanza     |No figura                                  |\n",
            "|GRANDES TALENTOS                                         |La Esperanza     |No figura                                  |\n",
            "|GRANDES TALENTOS                                         |La Esperanza     |No figura                                  |\n",
            "|GUILLERMO DE NORWICH                                     |La Esperanza     |No figura                                  |\n",
            "|GUILLERMO DE NORWICH                                     |La Esperanza     |No figura                                  |\n",
            "|GUILLERMO DE NORWICH                                     |La Esperanza     |No figura                                  |\n",
            "|HANS KELSEN                                              |Florencia de Mora|No figura                                  |\n",
            "|HANS KELSEN                                              |Florencia de Mora|No figura                                  |\n",
            "|HANS KELSEN                                              |Florencia de Mora|No figura                                  |\n",
            "|HISPANO AMERICANO                                        |La Esperanza     |No figura                                  |\n",
            "|HISPANO AMERICANO                                        |La Esperanza     |No figura                                  |\n",
            "|IE INICIAL PRUEBAS                                       |UGELTEST         |MEDINA MEDINA GUISELL ALEJANDRA            |\n",
            "|INDOAMERICANO                                            |La Esperanza     |No figura                                  |\n",
            "|INDOAMERICANO                                            |La Esperanza     |No figura                                  |\n",
            "|INDOAMERICANO                                            |La Esperanza     |No figura                                  |\n",
            "|INMACULADA VIRGEN DE LA PUERTA                           |La Esperanza     |No figura                                  |\n",
            "|INMACULADA VIRGEN DE LA PUERTA                           |La Esperanza     |No figura                                  |\n",
            "|INMACULADA VIRGEN DE LA PUERTA                           |La Esperanza     |No figura                                  |\n",
            "|JESUS ME GUIA                                            |La Esperanza     |No figura                                  |\n",
            "|JESUS ME GUIA                                            |La Esperanza     |No figura                                  |\n",
            "|JESUS ME GUIA                                            |La Esperanza     |No figura                                  |\n",
            "|JESUS MI SALVADOR                                        |La Esperanza     |No figura                                  |\n",
            "|JESUS MI SALVADOR                                        |La Esperanza     |No figura                                  |\n",
            "|JESUS MI SALVADOR                                        |La Esperanza     |No figura                                  |\n",
            "|JHON FORBES NASH                                         |Huanchaco        |No figura                                  |\n",
            "|JOHANNES GUTENBERG                                       |La Esperanza     |No figura                                  |\n",
            "|JOHANNES GUTENBERG                                       |La Esperanza     |No figura                                  |\n",
            "|JOHN DEWEY                                               |La Esperanza     |No figura                                  |\n",
            "|JOHN DEWEY                                               |La Esperanza     |No figura                                  |\n",
            "|JOHN NASH                                                |Florencia de Mora|No figura                                  |\n",
            "|JOHN NASH                                                |Florencia de Mora|No figura                                  |\n",
            "|JOHN NASH                                                |Florencia de Mora|No figura                                  |\n",
            "|JOSE MARIA ARGUEDAS                                      |La Esperanza     |No figura                                  |\n",
            "|JOSEPH NOVAK                                             |Huanchaco        |No figura                                  |\n",
            "|JOSEPH NOVAK                                             |Huanchaco        |No figura                                  |\n",
            "|JOSEPH NOVAK                                             |Huanchaco        |No figura                                  |\n",
            "|JULIO OCTAVIO GARRIDO MALAVER                            |Florencia de Mora|VµSQUEZ BELTRµN ELVIS FRANKLIN             |\n",
            "|KARL FREDERICH GAUSS                                     |Huanchaco        |No figura                                  |\n",
            "|KARL FREDERICH GAUSS                                     |Huanchaco        |No figura                                  |\n",
            "|KARL FREDERICH GAUSS                                     |Huanchaco        |No figura                                  |\n",
            "|LIBERTAD                                                 |La Esperanza     |No figura                                  |\n",
            "|LIBERTAD                                                 |La Esperanza     |No figura                                  |\n",
            "|LIBERTAD                                                 |La Esperanza     |No figura                                  |\n",
            "|LIBERTAD SIGLO XXI                                       |La Esperanza     |No figura                                  |\n",
            "|LIBERTAD SIGLO XXI                                       |La Esperanza     |No figura                                  |\n",
            "|LOS ANGELES                                              |Florencia de Mora|No figura                                  |\n",
            "|LOS NI¥OS DE JESUS                                       |La Esperanza     |No figura                                  |\n",
            "|LOS NI¥OS DE JESUS                                       |La Esperanza     |No figura                                  |\n",
            "|LOS NI¥OS DE MARIA                                       |Florencia de Mora|ZAVALETA VARGAS ELENA BEATRIZ              |\n",
            "|LOS ROSALES                                              |La Esperanza     |No figura                                  |\n",
            "|LOS ROSALES                                              |La Esperanza     |No figura                                  |\n",
            "|LUZ DE AMOR                                              |La Esperanza     |No figura                                  |\n",
            "|MADRE DE CRISTO                                          |La Esperanza     |LOZANO  TRUJILLO LINO                      |\n",
            "|MADRE DE CRISTO                                          |La Esperanza     |LOZANO  TRUJILLO LINO                      |\n",
            "|MANUEL SCORZA                                            |La Esperanza     |No figura                                  |\n",
            "|MANUEL SCORZA                                            |La Esperanza     |No figura                                  |\n",
            "|MARIA DEL PERPETUO SOCORRO                               |La Esperanza     |No figura                                  |\n",
            "|MARIA DEL PERPETUO SOCORRO                               |La Esperanza     |No figura                                  |\n",
            "|MARIA JOSE                                               |Huanchaco        |No figura                                  |\n",
            "|MARIA JOSE                                               |Huanchaco        |No figura                                  |\n",
            "|MARIA TERESITA DE JESUS                                  |La Esperanza     |No figura                                  |\n",
            "|MARIA TERESITA DE JESUS                                  |La Esperanza     |No figura                                  |\n",
            "|MARIA TERESITA DE JESUS                                  |La Esperanza     |No figura                                  |\n",
            "|MARIANO MELGAR                                           |La Esperanza     |No figura                                  |\n",
            "|MARIANO MELGAR                                           |La Esperanza     |No figura                                  |\n",
            "|MARIANO MELGAR                                           |La Esperanza     |No figura                                  |\n",
            "|METAFORAS                                                |La Esperanza     |No figura                                  |\n",
            "|METAFORAS                                                |La Esperanza     |No figura                                  |\n",
            "|MI DIVINA FAMILIA                                        |La Esperanza     |No figura                                  |\n",
            "|MI DIVINA FAMILIA                                        |La Esperanza     |No figura                                  |\n",
            "|MI FRAY MARTIN                                           |La Esperanza     |No figura                                  |\n",
            "|MI FRAY MARTIN                                           |La Esperanza     |No figura                                  |\n",
            "|MI MONTECASTELLO                                         |La Esperanza     |No figura                                  |\n",
            "|MI MONTECASTELLO                                         |La Esperanza     |No figura                                  |\n",
            "|MI MUNDO MAGICO                                          |La Esperanza     |No figura                                  |\n",
            "|MI MUNDO MAGICO                                          |La Esperanza     |No figura                                  |\n",
            "|MI VALLEJITO                                             |Florencia de Mora|No figura                                  |\n",
            "|MIS CRAYOLITAS                                           |La Esperanza     |No figura                                  |\n",
            "|MIS CRAYOLITAS                                           |La Esperanza     |No figura                                  |\n",
            "|MIS EDUCARES                                             |Huanchaco        |No figura                                  |\n",
            "|MIS EDUCARES                                             |Huanchaco        |No figura                                  |\n",
            "|MIS TALENTOS                                             |Florencia de Mora|No figura                                  |\n",
            "|MIS TALENTOS                                             |Florencia de Mora|No figura                                  |\n",
            "|MIS TALENTOS                                             |Florencia de Mora|No figura                                  |\n",
            "|MONTEVERDE                                               |Trujillo         |No figura                                  |\n",
            "|MONTEVERDE                                               |Trujillo         |No figura                                  |\n",
            "|MONTEVERDE                                               |Trujillo         |No figura                                  |\n",
            "|MY GREAT SCHOOL                                          |Florencia de Mora|No figura                                  |\n",
            "|MY GREAT SCHOOL                                          |Florencia de Mora|No figura                                  |\n",
            "|NI¥OS BRILLANTES                                         |La Esperanza     |No figura                                  |\n",
            "|NI¥OS BRILLANTES                                         |La Esperanza     |No figura                                  |\n",
            "|NI¥OS BRILLANTES SCHOOL                                  |La Esperanza     |No figura                                  |\n",
            "|NI¥OS BRILLANTES SCHOOL                                  |La Esperanza     |No figura                                  |\n",
            "|NI¥OS EN ACCION                                          |La Esperanza     |No figura                                  |\n",
            "|NI¥OS EN ACCION                                          |La Esperanza     |No figura                                  |\n",
            "|NI¥OS EN ACCION                                          |La Esperanza     |No figura                                  |\n",
            "|NUEVA GENERACION                                         |La Esperanza     |No figura                                  |\n",
            "|NUEVA GENERACION                                         |La Esperanza     |No figura                                  |\n",
            "|NUEVO HORIZONTE                                          |Huanchaco        |No figura                                  |\n",
            "|NUEVO HORIZONTE                                          |La Esperanza     |No figura                                  |\n",
            "|NUEVO HORIZONTE                                          |Huanchaco        |No figura                                  |\n",
            "|NUEVO HORIZONTE                                          |La Esperanza     |No figura                                  |\n",
            "|NUEVO HORIZONTE                                          |Huanchaco        |No figura                                  |\n",
            "|NUEVO MILENIO                                            |Huanchaco        |No figura                                  |\n",
            "|NUEVO MILENIO                                            |Huanchaco        |No figura                                  |\n",
            "|NUEVO MILENIO                                            |Huanchaco        |No figura                                  |\n",
            "|NUEVO RENACER MITAC                                      |Huanchaco        |No figura                                  |\n",
            "|NUEVO RENACER MITAC                                      |Huanchaco        |No figura                                  |\n",
            "|NUEVO RENACER MITAC                                      |Huanchaco        |No figura                                  |\n",
            "|PABLO NERUDA                                             |La Esperanza     |No figura                                  |\n",
            "|PAIDEIA                                                  |La Esperanza     |No figura                                  |\n",
            "|PAIDEIA                                                  |La Esperanza     |No figura                                  |\n",
            "|PAIDEIA                                                  |La Esperanza     |No figura                                  |\n",
            "|PAPA JUAN PABLO II                                       |Huanchaco        |VERA URBINA LUIS ALBERTO                   |\n",
            "|PAPA JUAN PABLO II                                       |Huanchaco        |VERA URBINA LUIS ALBERTO                   |\n",
            "|PAPA JUAN PABLO II                                       |Huanchaco        |VERA URBINA LUIS ALBERTO                   |\n",
            "|PEQUE¥AS ALEGRIAS                                        |La Esperanza     |No figura                                  |\n",
            "|PEQUE¥AS ALEGRIAS                                        |La Esperanza     |No figura                                  |\n",
            "|PEREGRINO JUAN XXIII                                     |La Esperanza     |No figura                                  |\n",
            "|PEREGRINO JUAN XXIII                                     |La Esperanza     |No figura                                  |\n",
            "|PEREGRINO JUAN XXIII                                     |La Esperanza     |No figura                                  |\n",
            "|PERUANO IRLANDES                                         |La Esperanza     |No figura                                  |\n",
            "|PERUANO IRLANDES                                         |La Esperanza     |No figura                                  |\n",
            "|PERUANO IRLANDES                                         |La Esperanza     |No figura                                  |\n",
            "|PROGRESO JUVENIL                                         |La Esperanza     |No figura                                  |\n",
            "|PROGRESO JUVENIL                                         |La Esperanza     |No figura                                  |\n",
            "|ROCEED NOBEL                                             |La Esperanza     |No figura                                  |\n",
            "|ROCEED NOBEL                                             |La Esperanza     |No figura                                  |\n",
            "|ROCEED NOBEL                                             |La Esperanza     |No figura                                  |\n",
            "|ROUSE BHEL                                               |La Esperanza     |No figura                                  |\n",
            "|SALESIANO SAN CARLOS                                     |La Esperanza     |No figura                                  |\n",
            "|SALESIANO SAN CARLOS                                     |La Esperanza     |No figura                                  |\n",
            "|SAN AGUSTIN                                              |La Esperanza     |No figura                                  |\n",
            "|SAN AGUSTIN                                              |La Esperanza     |No figura                                  |\n",
            "|SAN BARNETT SCHOOL                                       |La Esperanza     |No figura                                  |\n",
            "|SAN BARNETT SCHOOL                                       |La Esperanza     |No figura                                  |\n",
            "|SAN PATRICIO                                             |Florencia de Mora|TORRES SANTIAGO ROSEMARIE                  |\n",
            "|SAN PATRICIO                                             |Florencia de Mora|TORRES SANTIAGO ROSEMARIE                  |\n",
            "|SAN PATRICIO                                             |Florencia de Mora|TORRES SANTIAGO ROSEMARIE                  |\n",
            "|SANTA ELENA                                              |La Esperanza     |No figura                                  |\n",
            "|SANTA ELENA                                              |La Esperanza     |No figura                                  |\n",
            "|SANTA LUCIA                                              |La Esperanza     |No figura                                  |\n",
            "|SANTA MARIA DE JESUS                                     |Florencia de Mora|No figura                                  |\n",
            "|SANTA ROSA                                               |Trujillo         |No figura                                  |\n",
            "|SANTIAGO APOSTOL                                         |Florencia de Mora|RODRIGUEZ  VILLACORTA ROSA HAYDEE          |\n",
            "|SEMILLITAS                                               |La Esperanza     |No figura                                  |\n",
            "|SEMILLITAS                                               |La Esperanza     |No figura                                  |\n",
            "|SE¥OR DE LA MISERICORDIA                                 |La Esperanza     |No figura                                  |\n",
            "|SE¥OR DE LA MISERICORDIA                                 |La Esperanza     |No figura                                  |\n",
            "|SE¥OR DE LOS MILAGROS                                    |Huanchaco        |No figura                                  |\n",
            "|SE¥OR DE LOS MILAGROS                                    |Huanchaco        |No figura                                  |\n",
            "|SOL NACIENTE                                             |La Esperanza     |No figura                                  |\n",
            "|SOL NACIENTE                                             |La Esperanza     |No figura                                  |\n",
            "|SOL NACIENTE                                             |La Esperanza     |No figura                                  |\n",
            "|TALENTOS - LA ESPERANZA                                  |La Esperanza     |No figura                                  |\n",
            "|TESORITOS DE JESUS                                       |La Esperanza     |No figura                                  |\n",
            "|TESORITOS DE JESUS                                       |La Esperanza     |No figura                                  |\n",
            "|TESORITOS DE JESUS                                       |La Esperanza     |No figura                                  |\n",
            "|TONI REAL VICENS                                         |Huanchaco        |SANDOVAL  DE LA CRUZ LUCY NELLY            |\n",
            "|TONI REAL VICENS                                         |Huanchaco        |SANDOVAL  DE LA CRUZ LUCY NELLY            |\n",
            "|TONI REAL VICENS                                         |Huanchaco        |SANDOVAL  DE LA CRUZ LUCY NELLY            |\n",
            "|TRASCENDER                                               |Florencia de Mora|No figura                                  |\n",
            "|TRASCENDER                                               |Florencia de Mora|No figura                                  |\n",
            "|TRAVESURAS                                               |La Esperanza     |No figura                                  |\n",
            "|TUPAC AMARU II                                           |Florencia de Mora|HERRERA GARCIA WILMER                      |\n",
            "|TUPAC AMARU II                                           |Florencia de Mora|HERRERA GARCIA WILMER                      |\n",
            "|TUPAC AMARU II                                           |Florencia de Mora|HERRERA GARCIA WILMER                      |\n",
            "|VICTOR RAUL HAYA DE LA TORRE                             |Florencia de Mora|No figura                                  |\n",
            "|VILLA PARK                                               |La Esperanza     |No figura                                  |\n",
            "|VIRGEN DE GUADALUPE SCHOOL                               |La Esperanza     |No figura                                  |\n",
            "|VIRGEN DE GUADALUPE SCHOOL                               |La Esperanza     |No figura                                  |\n",
            "|VIRGEN DE LA PUERTA                                      |Huanchaco        |NU¥EZ QUIROZ HUBER                         |\n",
            "|VIRGEN DE LA PUERTA                                      |Florencia de Mora|AGUIRRE HUACCHA CARMEN VIOLETA             |\n",
            "|VIRGEN DE LA PUERTA                                      |Florencia de Mora|AGUIRRE HUACCHA CARMEN VIOLETA             |\n",
            "|VIRGEN DE LA PUERTA                                      |Florencia de Mora|AGUIRRE HUACCHA CARMEN VIOLETA             |\n",
            "|VIRGEN DEL CARMEN                                        |La Esperanza     |No figura                                  |\n",
            "|VIRGEN DEL CARMEN                                        |La Esperanza     |No figura                                  |\n",
            "|VIRGEN DEL CARMEN                                        |La Esperanza     |No figura                                  |\n",
            "|VIRGEN DEL PERPETUO SOCORRO                              |Huanchaco        |GUZMµN DE LA CRUZ MIRIAM MADELEINE         |\n",
            "|YACHAYWASI EL TEMPLO DEL SABER                           |Florencia de Mora|No figura                                  |\n",
            "|YACHAYWASI EL TEMPLO DEL SABER                           |Florencia de Mora|No figura                                  |\n",
            "|YACHAYWASI EL TEMPLO DEL SABER                           |Florencia de Mora|No figura                                  |\n",
            "|YANAPAY                                                  |Huanchaco        |No figura                                  |\n",
            "|YANAPAY                                                  |Huanchaco        |No figura                                  |\n",
            "|YANAPAY                                                  |Huanchaco        |No figura                                  |\n",
            "+---------------------------------------------------------+-----------------+-------------------------------------------+\n",
            "\n"
          ]
        }
      ]
    }
  ]
}